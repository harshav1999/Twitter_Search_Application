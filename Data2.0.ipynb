{
 "cells": [
  {
   "cell_type": "code",
   "execution_count": 1,
   "id": "2b44a4e9",
   "metadata": {},
   "outputs": [],
   "source": [
    "import os\n",
    "from pymongo import MongoClient\n",
    "import pymongo\n",
    "from pymongo.server_api import ServerApi\n",
    "from urllib.parse import quote_plus\n",
    "import json"
   ]
  },
  {
   "cell_type": "code",
   "execution_count": 2,
   "id": "acc82571",
   "metadata": {},
   "outputs": [],
   "source": [
    "## Preprocess and upload data into MongoDB Server\n",
    "with open('./data/corona-out-2') as f:\n",
    "    all_lines_list = f.readlines()\n",
    "filtered_json_list = [json.loads(line) for line in all_lines_list if line.strip()]"
   ]
  },
  {
   "cell_type": "code",
   "execution_count": 14,
   "id": "38889373",
   "metadata": {},
   "outputs": [],
   "source": [
    "all_tweets = []\n",
    "for each_record in filtered_json_list:\n",
    "    records_dict = {}\n",
    "    for each_col in each_record:\n",
    "        if each_col == 'user':\n",
    "            for each_user_col in each_record[each_col]:\n",
    "                records_dict['user.'+each_user_col] = each_record[each_col][each_user_col]\n",
    "        ## Inside tweet as new tweet.\n",
    "        elif each_col in ['retweeted_status','quoted_status']:\n",
    "            records_dict_2 = {}\n",
    "            for each_sub_col in each_record[each_col]:\n",
    "                if each_sub_col == 'user':\n",
    "                    records_dict_2['user.'+each_sub_col] = each_record[each_col][each_sub_col]\n",
    "                else:\n",
    "                    records_dict_2[each_sub_col] = each_record[each_col][each_sub_col]\n",
    "            all_tweets.append(records_dict_2)\n",
    "                \n",
    "        else: \n",
    "            records_dict[each_col] = each_record[each_col]\n",
    "    all_tweets.append(records_dict)"
   ]
  },
  {
   "cell_type": "code",
   "execution_count": 19,
   "id": "de61b447",
   "metadata": {},
   "outputs": [
    {
     "name": "stdout",
     "output_type": "stream",
     "text": [
      "Data inserted successfully.\n"
     ]
    }
   ],
   "source": [
    "client = pymongo.MongoClient(\"mongodb://localhost:27017/\")\n",
    "db = client['twitter']\n",
    "collection = db['TweetsData2.0']\n",
    "collection.insert_many(all_tweets)\n",
    "print(\"Data inserted successfully.\")"
   ]
  },
  {
   "cell_type": "code",
   "execution_count": 16,
   "id": "11940607",
   "metadata": {},
   "outputs": [],
   "source": [
    "collection.drop()\n"
   ]
  },
  {
   "cell_type": "code",
   "execution_count": 18,
   "id": "d2222882",
   "metadata": {},
   "outputs": [
    {
     "data": {
      "text/plain": [
       "18518"
      ]
     },
     "execution_count": 18,
     "metadata": {},
     "output_type": "execute_result"
    }
   ],
   "source": [
    "len(filtered_json_list)"
   ]
  }
 ],
 "metadata": {
  "kernelspec": {
   "display_name": "Python 3 (ipykernel)",
   "language": "python",
   "name": "python3"
  },
  "language_info": {
   "codemirror_mode": {
    "name": "ipython",
    "version": 3
   },
   "file_extension": ".py",
   "mimetype": "text/x-python",
   "name": "python",
   "nbconvert_exporter": "python",
   "pygments_lexer": "ipython3",
   "version": "3.11.4"
  }
 },
 "nbformat": 4,
 "nbformat_minor": 5
}
