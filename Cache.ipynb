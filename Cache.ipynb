{
 "cells": [
  {
   "cell_type": "code",
   "execution_count": null,
   "id": "47ff855a",
   "metadata": {},
   "outputs": [],
   "source": []
  },
  {
   "cell_type": "code",
   "execution_count": null,
   "id": "a46e9926",
   "metadata": {},
   "outputs": [],
   "source": [
    "class TwitterCache:\n",
    "    def __init__(self):\n",
    "        self.cache = {}\n",
    "\n",
    "    def get(self, query):\n",
    "        if query in self.cache:\n",
    "            return self.cache[query]\n",
    "        else:\n",
    "            return None\n",
    "\n",
    "    def set(self, query, result):\n",
    "        self.cache[query] = result\n",
    "\n",
    "# Example usage:\n",
    "cache = TwitterCache()\n",
    "\n",
    "# Perform Twitter search\n",
    "search_query = \"Python\"\n",
    "search_result = perform_twitter_search(search_query)\n",
    "\n",
    "# Cache the search result\n",
    "cache.set(search_query, search_result)\n",
    "\n",
    "# Later, retrieve the search result from the cache\n",
    "cached_result = cache.get(search_query)\n",
    "if cached_result:\n",
    "    print(\"Retrieved result from cache:\", cached_result)\n",
    "else:\n",
    "    print(\"No cached result found.\")\n"
   ]
  }
 ],
 "metadata": {
  "kernelspec": {
   "display_name": "Python 3 (ipykernel)",
   "language": "python",
   "name": "python3"
  },
  "language_info": {
   "codemirror_mode": {
    "name": "ipython",
    "version": 3
   },
   "file_extension": ".py",
   "mimetype": "text/x-python",
   "name": "python",
   "nbconvert_exporter": "python",
   "pygments_lexer": "ipython3",
   "version": "3.11.4"
  }
 },
 "nbformat": 4,
 "nbformat_minor": 5
}
