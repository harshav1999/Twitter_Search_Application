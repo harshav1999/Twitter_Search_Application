{
 "cells": [
  {
   "cell_type": "code",
   "execution_count": 18,
   "id": "47ff855a",
   "metadata": {},
   "outputs": [],
   "source": [
    "from search import search"
   ]
  },
  {
   "cell_type": "code",
   "execution_count": 19,
   "id": "b0a0c0c9",
   "metadata": {},
   "outputs": [
    {
     "name": "stdout",
     "output_type": "stream",
     "text": [
      "admin\n",
      "config\n",
      "local\n",
      "mongo\n",
      "twitter\n"
     ]
    }
   ],
   "source": [
    "from pymongo import MongoClient\n",
    "\n",
    "# Connect to MongoDB\n",
    "client = MongoClient('mongodb://localhost:27017/')\n",
    "\n",
    "database_names = client.list_database_names()\n",
    "\n",
    "for db_name in database_names:\n",
    "    print(db_name)\n",
    "\n",
    "db = client[\"twitter\"]\n",
    "collection = db[\"tweet_cluster_centroids\"]\n"
   ]
  },
  {
   "cell_type": "code",
   "execution_count": 20,
   "id": "a46e9926",
   "metadata": {},
   "outputs": [],
   "source": [
    "class TwitterCache:\n",
    "    def __init__(self):\n",
    "        self.cache = {}\n",
    "\n",
    "    def get(self, query):\n",
    "        if query in self.cache:\n",
    "            return self.cache[query]\n",
    "        else:\n",
    "            return None\n",
    "\n",
    "    def set(self, query, result):\n",
    "        self.cache[query] = result\n",
    "\n",
    "\n"
   ]
  },
  {
   "cell_type": "code",
   "execution_count": 24,
   "id": "2b25fade",
   "metadata": {},
   "outputs": [
    {
     "ename": "TypeError",
     "evalue": "search() takes 1 positional argument but 3 were given",
     "output_type": "error",
     "traceback": [
      "\u001b[0;31m---------------------------------------------------------------------------\u001b[0m",
      "\u001b[0;31mTypeError\u001b[0m                                 Traceback (most recent call last)",
      "Cell \u001b[0;32mIn[24], line 6\u001b[0m\n\u001b[1;32m      4\u001b[0m \u001b[38;5;66;03m# Perform Twitter search\u001b[39;00m\n\u001b[1;32m      5\u001b[0m search_query \u001b[38;5;241m=\u001b[39m \u001b[38;5;124m\"\u001b[39m\u001b[38;5;124mPython\u001b[39m\u001b[38;5;124m\"\u001b[39m\n\u001b[0;32m----> 6\u001b[0m search_result \u001b[38;5;241m=\u001b[39m search(search_query, db, collection)\n",
      "\u001b[0;31mTypeError\u001b[0m: search() takes 1 positional argument but 3 were given"
     ]
    }
   ],
   "source": [
    "# Example usage:\n",
    "cache = TwitterCache()\n",
    "\n",
    "# Perform Twitter search\n",
    "search_query = \"Python\"\n",
    "search_result = search(search_query, db, collection)\n",
    "\n"
   ]
  },
  {
   "cell_type": "code",
   "execution_count": 22,
   "id": "3174b497",
   "metadata": {},
   "outputs": [
    {
     "name": "stdout",
     "output_type": "stream",
     "text": [
      "admin\n",
      "config\n",
      "local\n",
      "mongo\n",
      "twitter\n"
     ]
    }
   ],
   "source": [
    "from pymongo import MongoClient\n",
    "\n",
    "# Connect to MongoDB\n",
    "client = MongoClient('mongodb://localhost:27017/')\n",
    "\n",
    "# List all database names\n",
    "database_names = client.list_database_names()\n",
    "\n",
    "# Print the list of database names\n",
    "for db_name in database_names:\n",
    "    print(db_name)\n"
   ]
  },
  {
   "cell_type": "code",
   "execution_count": 23,
   "id": "0a71e0cf",
   "metadata": {},
   "outputs": [
    {
     "name": "stdout",
     "output_type": "stream",
     "text": [
      "tweet_cluster_6\n",
      "tweet_cluster_centroids\n",
      "tweet_embeddings\n",
      "tweet_cluster_4\n",
      "tweet_cluster_3\n",
      "tweet_cluster_0\n",
      "tweet_cluster_5\n",
      "tweet_cluster_1\n",
      "tweet_cluster_2\n"
     ]
    }
   ],
   "source": [
    "db = client['twitter']\n",
    "\n",
    "# List all collections in the database\n",
    "collections = db.list_collection_names()\n",
    "\n",
    "# Print the list of collections\n",
    "for collection in collections:\n",
    "    print(collection)"
   ]
  },
  {
   "cell_type": "code",
   "execution_count": null,
   "id": "9de29927",
   "metadata": {},
   "outputs": [],
   "source": []
  }
 ],
 "metadata": {
  "kernelspec": {
   "display_name": "Python 3 (ipykernel)",
   "language": "python",
   "name": "python3"
  },
  "language_info": {
   "codemirror_mode": {
    "name": "ipython",
    "version": 3
   },
   "file_extension": ".py",
   "mimetype": "text/x-python",
   "name": "python",
   "nbconvert_exporter": "python",
   "pygments_lexer": "ipython3",
   "version": "3.11.4"
  }
 },
 "nbformat": 4,
 "nbformat_minor": 5
}
